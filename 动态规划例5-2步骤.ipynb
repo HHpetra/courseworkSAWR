{
 "cells": [
  {
   "cell_type": "markdown",
   "metadata": {},
   "source": [
    "# 例5-2步骤\n",
    "首先导入数据，进行初始化"
   ]
  },
  {
   "cell_type": "code",
   "execution_count": 1,
   "metadata": {},
   "outputs": [
    {
     "name": "stdout",
     "output_type": "stream",
     "text": [
      "g:\n",
      " [[  0.   0.   0.]\n",
      " [ 30.  50.  40.]\n",
      " [ 70. 100.  60.]\n",
      " [ 90. 110. 110.]\n",
      " [120. 110. 120.]\n",
      " [130. 110. 120.]]\n",
      "f:\n",
      " [[0. 0. 0.]\n",
      " [0. 0. 0.]\n",
      " [0. 0. 0.]\n",
      " [0. 0. 0.]\n",
      " [0. 0. 0.]\n",
      " [0. 0. 0.]]\n"
     ]
    }
   ],
   "source": [
    "import numpy as np\n",
    "stage=3\n",
    "k=6\n",
    "q=range(0,501,100)\n",
    "g=np.array([[0.,0.,0.],[30.,50.,40.],[70.,100.,60.],[90.,110.,110.],[120.,110.,120.],[130.,110.,120.]])\n",
    "f=np.zeros((k,stage))\n",
    "x=np.zeros((k,stage))\n",
    "print(\"g:\\n\",g)\n",
    "print(\"f:\\n\",f)"
   ]
  },
  {
   "cell_type": "markdown",
   "metadata": {},
   "source": [
    "计算阶段三  \n",
    "直接填入相应的数据"
   ]
  },
  {
   "cell_type": "code",
   "execution_count": 2,
   "metadata": {},
   "outputs": [],
   "source": [
    "f[:,2]=g[:,2]\n",
    "x[:,2]=range(0,6)"
   ]
  },
  {
   "cell_type": "markdown",
   "metadata": {},
   "source": [
    "计算阶段二  \n",
    "先计算三角矩阵，然后求每行的最大值  \n",
    "![ ](./image/动态规划第二阶段.png)"
   ]
  },
  {
   "cell_type": "code",
   "execution_count": 3,
   "metadata": {},
   "outputs": [
    {
     "name": "stdout",
     "output_type": "stream",
     "text": [
      "triangularMatrix:\n",
      " [[  0.   0.   0.   0.   0.   0.]\n",
      " [ 40.  50.   0.   0.   0.   0.]\n",
      " [ 60.  90. 100.   0.   0.   0.]\n",
      " [110. 110. 140. 110.   0.   0.]\n",
      " [120. 160. 160. 150. 110.   0.]\n",
      " [120. 170. 210. 170. 150. 110.]]\n",
      "f:\n",
      " [  0.  50. 100. 140. 160. 210.]\n"
     ]
    }
   ],
   "source": [
    "triangularMatrix=np.tile(g[:,1],(k,1))\n",
    "for i in range(0,k):\n",
    "    triangularMatrix[:,i]+=np.roll(f[:,2],i)\n",
    "triangularMatrix=np.tril(triangularMatrix,0)\n",
    "print('triangularMatrix:\\n',triangularMatrix)\n",
    "f[:,1]=triangularMatrix.max(axis=1)\n",
    "print('f:\\n',f[:,1])\n",
    "x[:,1]=np.argmax(triangularMatrix,axis=1)"
   ]
  },
  {
   "cell_type": "markdown",
   "metadata": {},
   "source": [
    "计算阶段一 同理"
   ]
  },
  {
   "cell_type": "code",
   "execution_count": 4,
   "metadata": {},
   "outputs": [
    {
     "name": "stdout",
     "output_type": "stream",
     "text": [
      "triangularMatrix:\n",
      " [[  0.   0.   0.   0.   0.   0.]\n",
      " [ 50.  30.   0.   0.   0.   0.]\n",
      " [100.  80.  70.   0.   0.   0.]\n",
      " [140. 130. 120.  90.   0.   0.]\n",
      " [160. 170. 170. 140. 120.   0.]\n",
      " [210. 190. 210. 190. 170. 130.]]\n",
      "f:\n",
      " [  0.  50. 100. 140. 170. 210.]\n"
     ]
    }
   ],
   "source": [
    "triangularMatrix=np.tile(g[:,0],(k,1))\n",
    "for i in range(0,k):\n",
    "    triangularMatrix[:,i]+=np.roll(f[:,1],i)\n",
    "triangularMatrix=np.tril(triangularMatrix,0)\n",
    "print('triangularMatrix:\\n',triangularMatrix)\n",
    "f[:,0]=triangularMatrix.max(axis=1)\n",
    "print('f:\\n',f[:,0])\n",
    "x[:,0]=np.argmax(triangularMatrix,axis=1)"
   ]
  },
  {
   "cell_type": "code",
   "execution_count": null,
   "metadata": {},
   "outputs": [],
   "source": []
  }
 ],
 "metadata": {
  "kernelspec": {
   "display_name": "Python 3",
   "language": "python",
   "name": "python3"
  },
  "language_info": {
   "codemirror_mode": {
    "name": "ipython",
    "version": 3
   },
   "file_extension": ".py",
   "mimetype": "text/x-python",
   "name": "python",
   "nbconvert_exporter": "python",
   "pygments_lexer": "ipython3",
   "version": "3.7.0"
  }
 },
 "nbformat": 4,
 "nbformat_minor": 2
}
