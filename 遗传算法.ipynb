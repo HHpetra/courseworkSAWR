{
 "cells": [
  {
   "cell_type": "markdown",
   "metadata": {},
   "source": [
    "# 遗传算法求函数最大值\n",
    "求下述二元函数最大值：$$max f(x_1,x_2)=x^2+x^2$$ $$x_1,x_2 = 1,2,\\dots ,7$$"
   ]
  },
  {
   "cell_type": "markdown",
   "metadata": {},
   "source": [
    "定义individual类，定义交叉运算函数和突变函数"
   ]
  },
  {
   "cell_type": "code",
   "execution_count": 1,
   "metadata": {},
   "outputs": [],
   "source": [
    "import numpy as np\n",
    "class Individual(object):\n",
    "    def __init__(self,x1,x2,bit=3):\n",
    "        self.bit=bit\n",
    "        self.value=(x1,x2)\n",
    "        self.gene=self.coding(x1,x2,bit)\n",
    "    def coding(self,x1,x2,bit):\n",
    "        code=\"\"\n",
    "        for i in range(0,bit):\n",
    "            x1,rem=divmod(x1,2)\n",
    "            code=str(rem)+code\n",
    "        for i in range(0,bit):\n",
    "            x2,rem=divmod(x2,2)\n",
    "            code=str(rem)+code\n",
    "        return code\n",
    "    def getValue(self):\n",
    "        bit=self.bit\n",
    "        x1=int(self.gene[bit:2*bit],2)\n",
    "        x2=int(self.gene[0:bit],2)\n",
    "        return [x1,x2]\n",
    "def changeGene(gene1,gene2,bit,n=3):\n",
    "    site=np.random.choice(range(2*bit),n)\n",
    "    newgene1=\"\"\n",
    "    newgene2=\"\"\n",
    "    for i in range(len(gene1)):\n",
    "        if i==site[0]:\n",
    "            newgene2+=gene1[i]\n",
    "            newgene1+=gene2[i]\n",
    "            site=np.delete(site,0)\n",
    "        else:\n",
    "            newgene1+=gene1[i]\n",
    "            newgene2+=gene2[i]\n",
    "    return newgene1,newgene2\n",
    "def Variation(gene,bit):\n",
    "    site=np.random.choice(range(2*bit))\n",
    "    newgene=\"\"\n",
    "    for i in range(len(gene)):\n",
    "        if i==site:\n",
    "            if gene[i]==\"1\":\n",
    "                newgene+=\"0\"\n",
    "            else:\n",
    "                newgene+=\"1\"\n",
    "        else:\n",
    "            newgene+=gene[i]\n",
    "    return newgene"
   ]
  },
  {
   "cell_type": "markdown",
   "metadata": {},
   "source": [
    "交叉运算，产生下一代个体"
   ]
  },
  {
   "cell_type": "code",
   "execution_count": 2,
   "metadata": {},
   "outputs": [
    {
     "name": "stdout",
     "output_type": "stream",
     "text": [
      "[1, 6] [2, 3]\n",
      "[0, 6] [3, 3]\n"
     ]
    }
   ],
   "source": [
    "a=Individual(1,6)\n",
    "b=Individual(2,3)\n",
    "print(a.getValue(),b.getValue())\n",
    "a.gene,b.gene=changeGene(a.gene,b.gene,3)\n",
    "print(a.getValue(),b.getValue())"
   ]
  },
  {
   "cell_type": "markdown",
   "metadata": {},
   "source": [
    "基因突变，产生新个体"
   ]
  },
  {
   "cell_type": "code",
   "execution_count": 3,
   "metadata": {},
   "outputs": [
    {
     "name": "stdout",
     "output_type": "stream",
     "text": [
      "[2, 5]\n",
      "[6, 5]\n"
     ]
    }
   ],
   "source": [
    "c=Individual(2,5)\n",
    "print(c.getValue())\n",
    "c.gene=Variation(c.gene,3)\n",
    "print(c.getValue())"
   ]
  },
  {
   "cell_type": "code",
   "execution_count": null,
   "metadata": {},
   "outputs": [],
   "source": []
  }
 ],
 "metadata": {
  "kernelspec": {
   "display_name": "Python 3",
   "language": "python",
   "name": "python3"
  },
  "language_info": {
   "codemirror_mode": {
    "name": "ipython",
    "version": 3
   },
   "file_extension": ".py",
   "mimetype": "text/x-python",
   "name": "python",
   "nbconvert_exporter": "python",
   "pygments_lexer": "ipython3",
   "version": "3.7.0"
  }
 },
 "nbformat": 4,
 "nbformat_minor": 2
}
