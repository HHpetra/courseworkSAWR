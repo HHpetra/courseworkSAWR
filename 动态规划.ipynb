{
 "cells": [
  {
   "cell_type": "markdown",
   "metadata": {},
   "source": [
    "<tb>"
   ]
  },
  {
   "cell_type": "markdown",
   "metadata": {},
   "source": [
    "# 动态规划例题\n",
    "> **例5-2** 水资源优化分配问题。某供水系统可供水量为$Q$,用户数为$N$，当给第$k$个用户供水$x_k$时所产生的效益为$g_k(x_k)$。如何合理分配水量才能使总效益最大？ \n",
    "\n",
    "以上问题是一静态问题，其数学模型可以表示为$$max Z =\\Sigma^N _{k=1}g_k(x-k)$$ $$\\Sigma^N_{k=1}\\le Q$$ $$x-k\\ge 0,k=1,2,\\dots ,N$$ \n",
    "如果$g_k(x_k)$均为$x_k$的线性函数，以上模型属于线性规划模型；如果$g_k(x_k)$均为$x_k$的非线性函数，则模型属于非线性规划中的可分规划模型。此外，如果把向每一个用户供水视为一个阶段，则以上问题也可以看作是一个$N$阶段的决策过程，可以用动态规划方法来求解。其模型描述如下： \n",
    "1. 阶段变量：$k=1,2,\\dots ,N$，表示第$k$个用户。\n",
    "2. 决策变量：第$k$个用户的供水量$x_k$。\n",
    "3. 状态变量：可用于分配个当前及以后阶段各用户的水量，即$$q_k=\\Sigma^N-{i=k}x_i,k=1,2,\\dots ,N$$\n",
    "4. 状态转移方程：根据状态变量，可得到状态转移方程为$$q_{k+1}=q_k-x_k$$ \n",
    "5. 指标函数：第$k$阶段的指标函数为第$k$个用户的效益$g_k(x_k)$。\n",
    "6. 目标函数：总效益最大$$max Z=\\Sigma^N_{k=1}g_k(x_k)$$ \n",
    "7. 约束条件：$$0\\le q_k\\le Q,0\\le x_k\\le q_k,k=1,2,\\dots ,N$$ \n",
    "建立以上模型后，可采用逆序法进行递推计算求解，其基本方程为$$f^*_k=max\\{g_k(x_k)+f^*_{k+1}(q_k-x_k)\\}$$ \n",
    "如果用函数或列表形式给出个用户的效益$f_k(x_k)，则可利用动态规划方法求出最有供水方案。假设可供水量$Q=500万m^3$，供给A,B,C三个用户$(N=3)$，个永和的供水效益如表所示。 \n",
    "\n",
    "|供水量$$x/万m^3$$|$$A:g_1(x_1)$$|$$B:g_2(x_2)$$|$$C:g_3(x_3)$$|\n",
    "|:-------------:|:----------:|:----------:|:----------:|\n",
    "|0|0|0|0|\n",
    "|100|30|50|40|\n",
    "|200|70|100|60|\n",
    "|300|90|110|110|\n",
    "|400|120|110|120|\n",
    "|500|130|110|120|"
   ]
  },
  {
   "cell_type": "code",
   "execution_count": 1,
   "metadata": {
    "scrolled": false
   },
   "outputs": [
    {
     "data": {
      "text/plain": [
       "(array([[  0.,   0.,   0.],\n",
       "        [ 50.,  50.,  40.],\n",
       "        [100., 100.,  60.],\n",
       "        [140., 140., 110.],\n",
       "        [170., 160., 120.],\n",
       "        [210., 210., 120.]]), array([[0., 0., 0.],\n",
       "        [0., 1., 1.],\n",
       "        [0., 2., 2.],\n",
       "        [0., 2., 3.],\n",
       "        [1., 1., 4.],\n",
       "        [0., 2., 5.]]))"
      ]
     },
     "execution_count": 1,
     "metadata": {},
     "output_type": "execute_result"
    }
   ],
   "source": [
    "import numpy as np\n",
    "def DP(stage,k,q,g):\n",
    "    f=np.zeros((k,stage))\n",
    "    x=np.zeros((k,stage))\n",
    "    f[:,stage-1]=g[:,stage-1]\n",
    "    x[:,stage-1]=range(0,k)\n",
    "    for n in reversed(range(0,stage-1)):\n",
    "        triangularMatrix=np.tile(g[:,n],(k,1))\n",
    "        for i in range(0,k):\n",
    "            triangularMatrix[:,i]+=np.roll(f[:,n+1],i)\n",
    "            triangularMatrix=np.tril(triangularMatrix,0)\n",
    "            f[:,n]=triangularMatrix.max(axis=1)\n",
    "        x[:,n]=np.argmax(triangularMatrix,axis=1)\n",
    "    return f,x\n",
    "if __name__=='__main__':\n",
    "    g=np.array([[0.,0.,0.],[30.,50.,40.],[70.,100.,60.],[90.,110.,110.],[120.,110.,120.],[130.,110.,120.]])\n",
    "    f,x=DP(3,6,range(0,501,100),g)\n",
    "    return f,x"
   ]
  },
  {
   "cell_type": "code",
   "execution_count": 2,
   "metadata": {},
   "outputs": [
    {
     "data": {
      "text/plain": [
       "(210.0, (0, (200, 300)))"
      ]
     },
     "execution_count": 2,
     "metadata": {},
     "output_type": "execute_result"
    }
   ],
   "source": [
    "ans=np.max(f)\n",
    "def supplingWater(x,MaxStage,stage,k):\n",
    "    q=range(0,501,100)\n",
    "    if stage==MaxStage-1:\n",
    "        return q[int(x[k,stage])]\n",
    "    else:\n",
    "        return q[int(x[k,stage])],supplingWater(x,MaxStage,stage+1,int(5-x[k,stage]))\n",
    "q=range(0,501,100)\n",
    "return ans,supplingWater(x,3,0,np.argmax(f[:,0]))"
   ]
  },
  {
   "cell_type": "code",
   "execution_count": null,
   "metadata": {},
   "outputs": [],
   "source": []
  }
 ],
 "metadata": {
  "kernelspec": {
   "display_name": "Python 3",
   "language": "python",
   "name": "python3"
  },
  "language_info": {
   "codemirror_mode": {
    "name": "ipython",
    "version": 3
   },
   "file_extension": ".py",
   "mimetype": "text/x-python",
   "name": "python",
   "nbconvert_exporter": "python",
   "pygments_lexer": "ipython3",
   "version": "3.7.0"
  }
 },
 "nbformat": 4,
 "nbformat_minor": 2
}
